{
  "nbformat": 4,
  "nbformat_minor": 0,
  "metadata": {
    "colab": {
      "name": "Email_Automatico.ipynb",
      "provenance": [],
      "collapsed_sections": [],
      "authorship_tag": "ABX9TyPbkgfXhmr5HMgi/DPy7PPL",
      "include_colab_link": true
    },
    "kernelspec": {
      "name": "python3",
      "display_name": "Python 3"
    },
    "language_info": {
      "name": "python"
    }
  },
  "cells": [
    {
      "cell_type": "markdown",
      "metadata": {
        "id": "view-in-github",
        "colab_type": "text"
      },
      "source": [
        "<a href=\"https://colab.research.google.com/github/brunoamaraldev/Email_Automatico_Python/blob/main/Email_Automatico.ipynb\" target=\"_parent\"><img src=\"https://colab.research.google.com/assets/colab-badge.svg\" alt=\"Open In Colab\"/></a>"
      ]
    },
    {
      "cell_type": "code",
      "metadata": {
        "colab": {
          "base_uri": "https://localhost:8080/"
        },
        "id": "DD4K0dMvvaYd",
        "outputId": "226d7fe7-14b1-40f4-da0a-a01ed62e6455"
      },
      "source": [
        "import smtplib\n",
        "import email.message\n",
        "\n",
        "# Corpo do email, o corpo do email é escrito em HTML\n",
        "def enviar_email():\n",
        "  corpo_email = \"\"\"\n",
        " Digite aqui o corpo do seu email\n",
        "  \"\"\"\n",
        "\n",
        "  msg = email.message.Message()\n",
        "  msg[\"Subject\"] = \"Email Automático\" # Assunto do email\n",
        "  msg[\"From\"] = \"remetente\" # Seu email\n",
        "  msg[\"To\"] = \"destinatario\" # Email destinatário\n",
        "  password = \"senha\" # Senha do SEU email\n",
        "  msg.add_header('Contente-Type', 'text/html')\n",
        "  msg.set_payload(corpo_email)\n",
        "\n",
        "  s = smtplib.SMTP('smtp.gmail.com: 587')\n",
        "  s.starttls()\n",
        "\n",
        "  # Login Credentials for sending the email\n",
        "  s.login(msg['From'], password)\n",
        "  s.sendmail(msg['From'], [msg['To']], msg.as_string().encode('utf-8'))\n",
        "  print('Email enviado')\n",
        "\n",
        "enviar_email()"
      ],
      "execution_count": 8,
      "outputs": [
        {
          "output_type": "stream",
          "text": [
            "Email enviado\n"
          ],
          "name": "stdout"
        }
      ]
    },
    {
      "cell_type": "code",
      "metadata": {
        "id": "bTEh54GR1m01"
      },
      "source": [
        ""
      ],
      "execution_count": null,
      "outputs": []
    }
  ]
}